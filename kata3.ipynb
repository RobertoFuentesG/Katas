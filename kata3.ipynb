{
 "cells": [
  {
   "cell_type": "code",
   "execution_count": 2,
   "metadata": {},
   "outputs": [
    {
     "name": "stdout",
     "output_type": "stream",
     "text": [
      "alerta\n"
     ]
    }
   ],
   "source": [
    "a = 49\n",
    "b = 25\n",
    "if a > b:\n",
    "    print(\"alerta\")\n",
    "else:\n",
    "    print(\"tranquilo\")\n"
   ]
  },
  {
   "cell_type": "code",
   "execution_count": 5,
   "metadata": {},
   "outputs": [
    {
     "name": "stdout",
     "output_type": "stream",
     "text": [
      "Ten un buen día\n"
     ]
    }
   ],
   "source": [
    "a = 19\n",
    "if a >= 20:\n",
    "    print(\"Busca el asteroide\")\n",
    "elif a >= 25:\n",
    "    print(\"ALERTA\")\n",
    "else: \n",
    "    print(\"Ten un buen día\")"
   ]
  },
  {
   "cell_type": "code",
   "execution_count": 6,
   "metadata": {},
   "outputs": [
    {
     "name": "stdout",
     "output_type": "stream",
     "text": [
      "Busca el asteroide!\n"
     ]
    }
   ],
   "source": [
    "t = 25 # masa\n",
    "v = 25 # velocidad\n",
    "if t > 25 and v > 25:\n",
    "    print (\"Salvese quien pueda\")\n",
    "elif v >= 20:\n",
    "    print (\"Busca el asteroide!\")\n",
    "elif t < 25:\n",
    "    print(\"Ten un buen día\")\n",
    "else:\n",
    "    print(\"Ten un buen día\")"
   ]
  }
 ],
 "metadata": {
  "interpreter": {
   "hash": "f3d8d38592bf2dec2a058994c195c0c889bded4a193a1e9dd1f3ce8eccc8df51"
  },
  "kernelspec": {
   "display_name": "Python 3.10.2 64-bit (windows store)",
   "language": "python",
   "name": "python3"
  },
  "language_info": {
   "codemirror_mode": {
    "name": "ipython",
    "version": 3
   },
   "file_extension": ".py",
   "mimetype": "text/x-python",
   "name": "python",
   "nbconvert_exporter": "python",
   "pygments_lexer": "ipython3",
   "version": "3.10.2"
  },
  "orig_nbformat": 4
 },
 "nbformat": 4,
 "nbformat_minor": 2
}
