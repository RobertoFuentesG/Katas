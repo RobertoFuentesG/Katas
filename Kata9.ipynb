{
 "cells": [
  {
   "cell_type": "markdown",
   "metadata": {},
   "source": [
    "# Ejercicio 1"
   ]
  },
  {
   "cell_type": "code",
   "execution_count": 165,
   "metadata": {},
   "outputs": [],
   "source": [
    "def tanques(tanque1,tanque2,tanque3):\n",
    "    total = (tanque1 + tanque2 + tanque3)/3\n",
    "    \n",
    "\n",
    "    return f'Promedio{total}, Tanque 1: {tanque1}, Tanque 2: {tanque2}, Tanque 3: {tanque3}'"
   ]
  },
  {
   "cell_type": "code",
   "execution_count": 166,
   "metadata": {},
   "outputs": [
    {
     "data": {
      "text/plain": [
       "'Promedio58.333333333333336, Tanque 1: 50, Tanque 2: 45, Tanque 3: 80'"
      ]
     },
     "execution_count": 166,
     "metadata": {},
     "output_type": "execute_result"
    }
   ],
   "source": [
    "tanques(50, 45, 80)\n"
   ]
  },
  {
   "cell_type": "code",
   "execution_count": 200,
   "metadata": {},
   "outputs": [],
   "source": [
    "def verificar(valores):\n",
    "    nuevo_total = sum(valores)\n",
    "    datos = len(valores)\n",
    "\n",
    "    return f'Nuevo promedio {nuevo_total/datos}\n"
   ]
  },
  {
   "cell_type": "code",
   "execution_count": 216,
   "metadata": {},
   "outputs": [
    {
     "data": {
      "text/plain": [
       "'Nuevo promedio 21.666666666666668'"
      ]
     },
     "execution_count": 216,
     "metadata": {},
     "output_type": "execute_result"
    }
   ],
   "source": [
    "verificar([30, 20, 15])"
   ]
  },
  {
   "cell_type": "code",
   "execution_count": 227,
   "metadata": {},
   "outputs": [],
   "source": [
    "def tanques(tanque1,tanque2,tanque3):\n",
    "    \n",
    "    return f' {verificar([tanque1, tanque2, tanque3])}, Tanque 1: {tanque1}, Tanque 2: {tanque2}, Tanque 3: {tanque3}'\n",
    "\n"
   ]
  },
  {
   "cell_type": "code",
   "execution_count": 229,
   "metadata": {},
   "outputs": [
    {
     "data": {
      "text/plain": [
       "' Nuevo promedio 60.0, Tanque 1: 30, Tanque 2: 60, Tanque 3: 90'"
      ]
     },
     "execution_count": 229,
     "metadata": {},
     "output_type": "execute_result"
    }
   ],
   "source": [
    "tanques(30,60,90)"
   ]
  },
  {
   "cell_type": "markdown",
   "metadata": {},
   "source": [
    "# Ejercicio 2"
   ]
  },
  {
   "cell_type": "code",
   "execution_count": 261,
   "metadata": {},
   "outputs": [],
   "source": [
    "def mision(prelanzamiento, vuelo, destino, tanque_ext, tanque_int):\n",
    "\n",
    "  #  tiempo = sum(prelanzamiento + vuelo)\n",
    "   # Destino = destino\n",
    "    #tank1 = tanque_ext\n",
    "    #tank2 =  tanque_int   \n",
    "    \n",
    "    return f'Tiempo de espera: {prelanzamiento}, Tiempo de vuelo: {vuelo}, destino: {destino}, Tanques: {tanque_ext}, {tanque_int}'"
   ]
  },
  {
   "cell_type": "code",
   "execution_count": 262,
   "metadata": {},
   "outputs": [
    {
     "data": {
      "text/plain": [
       "'Tiempo de espera: 2, Tiempo de vuelo: 3, destino: marte, Tanques: 5000, 5000'"
      ]
     },
     "execution_count": 262,
     "metadata": {},
     "output_type": "execute_result"
    }
   ],
   "source": [
    "mision(2, 3, 'marte', 5000, 5000)\n",
    "\n"
   ]
  },
  {
   "cell_type": "code",
   "execution_count": 268,
   "metadata": {},
   "outputs": [],
   "source": [
    "#Función con un informe preciso de la misión. \n",
    "# Considera hora de prelanzamiento, tiempo de vuelo, destino, tanque externo\n",
    "def cohete (destino,*tiempo, **combustibles):\n",
    "    Destino = destino\n",
    "    Tiempo_total = sum(tiempo)\n",
    "    Combustible_total = sum(combustibles.values())\n",
    "    return f'Tiempo de vuelo: {Tiempo_total} minutos, Destino: {Destino}, Combustible total: {Combustible_total} '"
   ]
  },
  {
   "cell_type": "code",
   "execution_count": 269,
   "metadata": {},
   "outputs": [
    {
     "data": {
      "text/plain": [
       "'Tiempo de vuelo: 83 minutos%, Destino: Marte%, Combustible total: 120 %'"
      ]
     },
     "execution_count": 269,
     "metadata": {},
     "output_type": "execute_result"
    }
   ],
   "source": [
    "cohete (\"Marte\", 9, 74,tank1= 87, tank2=33)"
   ]
  },
  {
   "cell_type": "code",
   "execution_count": 295,
   "metadata": {},
   "outputs": [],
   "source": [
    "#Función con un informe preciso de la misión. \n",
    "# Considera hora de prelanzamiento, tiempo de vuelo, destino, tanque externo\n",
    "def cohete (destino,*tiempo, **combustibles):\n",
    "    Destino = destino\n",
    "    Tiempo_total = sum(tiempo)\n",
    "    Combustible_total = sum(combustibles.values())\n",
    "    \n",
    "    for title, tank in combustibles.items():\n",
    "        print(f'Tiempo de vuelo: {Tiempo_total} minutos, Destino: {Destino}, Combustible total: {Combustible_total},Tanque: {title}: {tank}')\n",
    "   # return f'Tiempo de vuelo: {Tiempo_total} minutos, Destino: {Destino}, Combustible total: {Combustible_total},'\n",
    "    \n",
    "\n"
   ]
  },
  {
   "cell_type": "code",
   "execution_count": 296,
   "metadata": {},
   "outputs": [
    {
     "name": "stdout",
     "output_type": "stream",
     "text": [
      "Tiempo de vuelo: 83 minutos, Destino: Marte, Combustible total: 120,Tanque: tank1: 87\n",
      "Tiempo de vuelo: 83 minutos, Destino: Marte, Combustible total: 120,Tanque: tank2: 33\n"
     ]
    }
   ],
   "source": [
    "cohete (\"Marte\", 9, 74,tank1= 87, tank2=33)"
   ]
  }
 ],
 "metadata": {
  "interpreter": {
   "hash": "f3d8d38592bf2dec2a058994c195c0c889bded4a193a1e9dd1f3ce8eccc8df51"
  },
  "kernelspec": {
   "display_name": "Python 3.10.2 64-bit (windows store)",
   "language": "python",
   "name": "python3"
  },
  "language_info": {
   "codemirror_mode": {
    "name": "ipython",
    "version": 3
   },
   "file_extension": ".py",
   "mimetype": "text/x-python",
   "name": "python",
   "nbconvert_exporter": "python",
   "pygments_lexer": "ipython3",
   "version": "3.10.2"
  },
  "orig_nbformat": 4
 },
 "nbformat": 4,
 "nbformat_minor": 2
}
