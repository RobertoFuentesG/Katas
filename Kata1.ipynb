{
 "cells": [
  {
   "cell_type": "code",
   "execution_count": 1,
   "metadata": {},
   "outputs": [
    {
     "name": "stdout",
     "output_type": "stream",
     "text": [
      "Today's date is:2022-02-07\n"
     ]
    }
   ],
   "source": [
    "from datetime import date\n",
    "date.today()\n",
    "print(\"Today's date is:\" + str(date.today()))"
   ]
  },
  {
   "cell_type": "code",
   "execution_count": 3,
   "metadata": {},
   "outputs": [
    {
     "name": "stdout",
     "output_type": "stream",
     "text": [
      "11parsec, is35.877159999999996lightyears\n"
     ]
    }
   ],
   "source": [
    "\n",
    "parsec = 11\n",
    "lightyears = 3.26156 * parsec\n",
    "print(str(parsec)+ \"parsec, is\" + str(lightyears) + \"lightyears\")\n",
    "\n"
   ]
  }
 ],
 "metadata": {
  "interpreter": {
   "hash": "4a4c5074e4a278efde063d3552036efdf1c5c10de962f5331743f572c399cb8c"
  },
  "kernelspec": {
   "display_name": "Python 3.10.2 64-bit",
   "language": "python",
   "name": "python3"
  },
  "language_info": {
   "codemirror_mode": {
    "name": "ipython",
    "version": 3
   },
   "file_extension": ".py",
   "mimetype": "text/x-python",
   "name": "python",
   "nbconvert_exporter": "python",
   "pygments_lexer": "ipython3",
   "version": "3.10.2"
  },
  "orig_nbformat": 4
 },
 "nbformat": 4,
 "nbformat_minor": 2
}
