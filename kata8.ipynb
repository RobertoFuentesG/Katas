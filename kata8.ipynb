{
 "cells": [
  {
   "cell_type": "markdown",
   "metadata": {},
   "source": [
    "# Ejercicio 1"
   ]
  },
  {
   "cell_type": "code",
   "execution_count": 6,
   "metadata": {},
   "outputs": [
    {
     "name": "stdout",
     "output_type": "stream",
     "text": [
      "Mars 2\n"
     ]
    }
   ],
   "source": [
    "planet = {\n",
    "    'name': 'Mars',\n",
    "    'moons': 2\n",
    "}\n",
    "print(planet.get('name'), planet.get('moons'))\n"
   ]
  },
  {
   "cell_type": "code",
   "execution_count": 7,
   "metadata": {},
   "outputs": [],
   "source": [
    "planet['diameter (km)'] = {\n",
    "    'polar': 6752,\n",
    "    'equatorial': 6792\n",
    "}"
   ]
  },
  {
   "cell_type": "code",
   "execution_count": 8,
   "metadata": {},
   "outputs": [
    {
     "name": "stdout",
     "output_type": "stream",
     "text": [
      "Mars polar diameter: 6752\n"
     ]
    }
   ],
   "source": [
    "print(f'{planet[\"name\"]} polar diameter: {planet[\"diameter (km)\"][\"polar\"]}')"
   ]
  },
  {
   "cell_type": "markdown",
   "metadata": {},
   "source": [
    "# Ejercicio 2"
   ]
  },
  {
   "cell_type": "code",
   "execution_count": 8,
   "metadata": {},
   "outputs": [
    {
     "name": "stdout",
     "output_type": "stream",
     "text": [
      "mercury: 0\n",
      "venus: 0\n",
      "earth: 1\n",
      "mars: 2\n",
      "jupiter: 79\n",
      "saturn: 82\n",
      "uranus: 27\n",
      "neptune: 14\n",
      "pluto: 5\n",
      "haumea: 2\n",
      "makemake: 1\n",
      "eris: 1\n",
      "Existe 214 en el sistema solar\n",
      "hay un promedio de : 17.833333333333332 lunas\n"
     ]
    }
   ],
   "source": [
    "# Planets and moons\n",
    "\n",
    "planet_moons = {\n",
    "    'mercury': 0,\n",
    "    'venus': 0,\n",
    "    'earth': 1,\n",
    "    'mars': 2,\n",
    "    'jupiter': 79,\n",
    "    'saturn': 82,\n",
    "    'uranus': 27,\n",
    "    'neptune': 14,\n",
    "    'pluto': 5,\n",
    "    'haumea': 2,\n",
    "    'makemake': 1,\n",
    "    'eris': 1\n",
    "}\n",
    "\n",
    "for key in planet_moons.keys():\n",
    "    print(f'{key}: {planet_moons[key]}')\n",
    "\n",
    "planets = len(planet_moons)\n",
    "planets\n",
    "total_moons = 0\n",
    "\n",
    "for value in planet_moons.values():\n",
    "     total_moons = total_moons + value\n",
    "\n",
    "print(f'Existe {total_moons} en el sistema solar')\n",
    "\n",
    "\n",
    "promedio = (int(total_moons)/int(planets))\n",
    "print('hay un promedio de :', promedio, 'lunas')\n",
    "\n",
    "   "
   ]
  }
 ],
 "metadata": {
  "interpreter": {
   "hash": "f3d8d38592bf2dec2a058994c195c0c889bded4a193a1e9dd1f3ce8eccc8df51"
  },
  "kernelspec": {
   "display_name": "Python 3.10.2 64-bit (windows store)",
   "language": "python",
   "name": "python3"
  },
  "language_info": {
   "codemirror_mode": {
    "name": "ipython",
    "version": 3
   },
   "file_extension": ".py",
   "mimetype": "text/x-python",
   "name": "python",
   "nbconvert_exporter": "python",
   "pygments_lexer": "ipython3",
   "version": "3.10.2"
  },
  "orig_nbformat": 4
 },
 "nbformat": 4,
 "nbformat_minor": 2
}
