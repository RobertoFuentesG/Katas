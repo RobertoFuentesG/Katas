{
 "cells": [
  {
   "cell_type": "markdown",
   "metadata": {},
   "source": [
    "# Ejercicio 1"
   ]
  },
  {
   "cell_type": "code",
   "execution_count": 5,
   "metadata": {},
   "outputs": [
    {
     "name": "stdout",
     "output_type": "stream",
     "text": [
      "En total hay:  (8, 'planetas')\n"
     ]
    }
   ],
   "source": [
    "# Nombre planetas\n",
    "planetas = ['Mercurio', 'Venus', 'Tierra', 'Marte','Jupiter', 'Saturno', 'Urano', 'Neptuno']\n",
    "total_planetas = len(planetas), 'planetas'\n",
    "print('En total hay: ', total_planetas)"
   ]
  },
  {
   "cell_type": "code",
   "execution_count": 7,
   "metadata": {},
   "outputs": [
    {
     "name": "stdout",
     "output_type": "stream",
     "text": [
      "La verdad es que hay: (10, 'planetas')\n",
      "El último planeta es: Pluton\n"
     ]
    }
   ],
   "source": [
    "# agregar plutón\n",
    "planetas.append('Pluton')\n",
    "total_planetas = len(planetas), 'planetas'\n",
    "print('La verdad es que hay:', total_planetas)\n",
    "print('El último planeta es:', planetas [-1])"
   ]
  },
  {
   "cell_type": "markdown",
   "metadata": {},
   "source": [
    "# Ejercicio 2"
   ]
  },
  {
   "cell_type": "code",
   "execution_count": 11,
   "metadata": {},
   "outputs": [],
   "source": [
    "# Nombre planetas 2\n",
    "planetas = ['Mercurio', 'Venus', 'Tierra', 'Marte','Jupiter', 'Saturno', 'Urano', 'Neptuno']\n",
    "\n"
   ]
  },
  {
   "cell_type": "code",
   "execution_count": 20,
   "metadata": {},
   "outputs": [
    {
     "name": "stdout",
     "output_type": "stream",
     "text": [
      "Escribe el nombre de un planeta en mayúsculas\n",
      "['Mercurio', 'Venus', 'Tierra']\n"
     ]
    }
   ],
   "source": [
    "# Solicitar nombre planeta\n",
    "print('Escribe el nombre de un planeta en mayúsculas')\n",
    "tu_planeta = input(\"planetas\")\n",
    "buscando = planetas.index(tu_planeta)\n",
    "planets_before_earth = planetas[0:buscando]\n",
    "print(planets_before_earth)\n"
   ]
  },
  {
   "cell_type": "code",
   "execution_count": 23,
   "metadata": {},
   "outputs": [
    {
     "name": "stdout",
     "output_type": "stream",
     "text": [
      "['Jupiter', 'Saturno', 'Urano', 'Neptuno']\n"
     ]
    }
   ],
   "source": [
    "planets_after_earth = planetas[buscando + 1:8]\n",
    "print(planets_after_earth)"
   ]
  }
 ],
 "metadata": {
  "interpreter": {
   "hash": "f3d8d38592bf2dec2a058994c195c0c889bded4a193a1e9dd1f3ce8eccc8df51"
  },
  "kernelspec": {
   "display_name": "Python 3.10.2 64-bit (windows store)",
   "language": "python",
   "name": "python3"
  },
  "language_info": {
   "codemirror_mode": {
    "name": "ipython",
    "version": 3
   },
   "file_extension": ".py",
   "mimetype": "text/x-python",
   "name": "python",
   "nbconvert_exporter": "python",
   "pygments_lexer": "ipython3",
   "version": "3.10.2"
  },
  "orig_nbformat": 4
 },
 "nbformat": 4,
 "nbformat_minor": 2
}
