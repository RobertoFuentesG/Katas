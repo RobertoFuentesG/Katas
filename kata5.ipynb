{
 "cells": [
  {
   "cell_type": "code",
   "execution_count": 2,
   "metadata": {},
   "outputs": [],
   "source": [
    "# Variables distancia\n",
    "t = 149597870\n",
    "j = 778547200"
   ]
  },
  {
   "cell_type": "code",
   "execution_count": 3,
   "metadata": {},
   "outputs": [
    {
     "name": "stdout",
     "output_type": "stream",
     "text": [
      "628949330\n",
      "390577534\n"
     ]
    }
   ],
   "source": [
    "# distancia\n",
    "distancia = j - t\n",
    "print(distancia)\n",
    "\n",
    "#millas\n",
    "millas = distancia * .621\n",
    "print(round(millas))"
   ]
  },
  {
   "cell_type": "markdown",
   "metadata": {},
   "source": [
    "# Ejercicio 2"
   ]
  },
  {
   "cell_type": "code",
   "execution_count": null,
   "metadata": {},
   "outputs": [],
   "source": []
  },
  {
   "cell_type": "code",
   "execution_count": 5,
   "metadata": {},
   "outputs": [
    {
     "name": "stdout",
     "output_type": "stream",
     "text": [
      "50300000km\n",
      "31236300.0millas\n",
      "50300000 millas\n"
     ]
    }
   ],
   "source": [
    "\n",
    "planeta_uno = input(\"Mercurio\")\n",
    "planeta_dos = input(\"Venus\")\n",
    "distancia_planetas = (abs(int(planeta_uno) - int(planeta_dos)))\n",
    "print(str(distancia_planetas) + \"km\")\n",
    "print(str((distancia_planetas) * .621) + \"millas\")\n",
    "print(distancia_planetas, \"millas\")"
   ]
  }
 ],
 "metadata": {
  "interpreter": {
   "hash": "f3d8d38592bf2dec2a058994c195c0c889bded4a193a1e9dd1f3ce8eccc8df51"
  },
  "kernelspec": {
   "display_name": "Python 3.10.2 64-bit (windows store)",
   "language": "python",
   "name": "python3"
  },
  "language_info": {
   "codemirror_mode": {
    "name": "ipython",
    "version": 3
   },
   "file_extension": ".py",
   "mimetype": "text/x-python",
   "name": "python",
   "nbconvert_exporter": "python",
   "pygments_lexer": "ipython3",
   "version": "3.10.2"
  },
  "orig_nbformat": 4
 },
 "nbformat": 4,
 "nbformat_minor": 2
}
